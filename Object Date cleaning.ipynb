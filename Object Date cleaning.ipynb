{
 "cells": [
  {
   "cell_type": "code",
   "execution_count": 2,
   "metadata": {},
   "outputs": [],
   "source": [
    "def clean_object_date(df):\n",
    "    def extract_non_numeric(object_date):\n",
    "        string=str(object_date)\n",
    "        import re\n",
    "        pattern=r'\\D+'\n",
    "        match=re.findall(pattern,string)\n",
    "        return tuple(match)\n",
    "    df['object_date_non_numeric']=df['Object Date'].apply(extract_non_numeric)\n",
    "    def clean_object_date(date):\n",
    "        import re\n",
    "        def extract_year(string):\n",
    "            pattern=r'\\d+'\n",
    "            m=re.search(pattern,string).group()\n",
    "            if 3<=len(m)<=4 and int(m)<=2018:\n",
    "                return int(m[:-2])+1\n",
    "            elif 1<=len(m)<=2:\n",
    "                return 1\n",
    "            else:\n",
    "                return None\n",
    "        century=None\n",
    "        if date==None:\n",
    "            century=None\n",
    "        string=str(date)\n",
    "        if string=='':\n",
    "            century=None\n",
    "        match=tuple(re.findall(r'\\D+',string))\n",
    "        if  match==('th century',) or match==('th–','th century') or match==('early ','th century') or match==('late ','th century') or match==('late ','th–early ','th century') or match==('mid-','th century') or match==('second half ','th century') or match==('first half ','th century') or match==('th–early ','th century'):\n",
    "            pattern=r'\\d+'\n",
    "            m=re.search(pattern,string).group()\n",
    "            if not m==None:\n",
    "                century=int(m)\n",
    "        if match==('th century B.C.',) or match==('ca. ','th–','th century B.C.') or match==('th–','th century B.C.'):\n",
    "            pattern=r'\\d+'\n",
    "            m=re.search(pattern,string).group()\n",
    "            if not m==None:\n",
    "                century=-int(m)\n",
    "        if match==('ca. ','–',' B.C.') or match==('ca. ',' B.C.') or match==('B.C.–A.D. ',):\n",
    "            century=extract_year(string)\n",
    "        if match==tuple() or match==('–',) or match==('s',) or match==('s–','s') or match==('fall/winter ','–') or match==('ca. ','–') or match==('ca. ',) or match==('dated ',) or match==('spring/summer ',):\n",
    "            century=extract_year(string)\n",
    "        return century\n",
    "    df['century']=df['Object Date'].apply(clean_object_date)"
   ]
  }
 ],
 "metadata": {
  "kernelspec": {
   "display_name": "Python 3",
   "language": "python",
   "name": "python3"
  },
  "language_info": {
   "codemirror_mode": {
    "name": "ipython",
    "version": 3
   },
   "file_extension": ".py",
   "mimetype": "text/x-python",
   "name": "python",
   "nbconvert_exporter": "python",
   "pygments_lexer": "ipython3",
   "version": "3.6.5"
  }
 },
 "nbformat": 4,
 "nbformat_minor": 2
}
