{
 "cells": [
  {
   "cell_type": "code",
   "execution_count": 35,
   "metadata": {},
   "outputs": [],
   "source": [
    "def generate_candidates(df):\n",
    "    department_list=list(df['Department'].unique())\n",
    "    artist_candidates={}\n",
    "    region_candidates={}\n",
    "    for department in department_list:\n",
    "        artist_candidates[department]=list(df[df['Department']==department]['Artist Display Name'].unique())\n",
    "    for department in department_list:\n",
    "        region_candidates[department]=list(df[df['Department']==department]['Country'].unique())\n",
    "    return artist_candidates,region_candidates"
   ]
  },
  {
   "cell_type": "code",
   "execution_count": null,
   "metadata": {},
   "outputs": [],
   "source": [
    "artist_candidates,region_candidates=generate_candidates(df)"
   ]
  },
  {
   "cell_type": "code",
   "execution_count": null,
   "metadata": {},
   "outputs": [],
   "source": [
    "def generate_choices(correct,category,obj_department):\n",
    "    import random\n",
    "    if category=='artist':\n",
    "        artists=[x for x in artist_candidates[obj_department] if not x==correct]\n",
    "        wrong_choices=random.sample(artists,3)\n",
    "    if category=='region':\n",
    "        regions=[x for x in region_candidates[obj_department] if not x==correct]\n",
    "        wrong_choices=random.sample(regions,3)\n",
    "    return wrong_choices\n"
   ]
  }
 ],
 "metadata": {
  "kernelspec": {
   "display_name": "Python 3",
   "language": "python",
   "name": "python3"
  },
  "language_info": {
   "codemirror_mode": {
    "name": "ipython",
    "version": 3
   },
   "file_extension": ".py",
   "mimetype": "text/x-python",
   "name": "python",
   "nbconvert_exporter": "python",
   "pygments_lexer": "ipython3",
   "version": "3.6.5"
  }
 },
 "nbformat": 4,
 "nbformat_minor": 2
}
