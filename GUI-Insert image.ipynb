{
 "cells": [
  {
   "cell_type": "code",
   "execution_count": 21,
   "metadata": {},
   "outputs": [],
   "source": [
    "#only for testing\n",
    "def return_question():\n",
    "    import random\n",
    "    next_ques=random.choice([\"Yooooo!\",'Heyyyy!','Weeeee!'])\n",
    "    pic_link='https://bakingamoment.com/wp-content/uploads/2018/02/IMG_6207-chocolate-molten-lava-cakes-recipe-square.jpg'\n",
    "    choices=['A','B','C','D']\n",
    "    random.shuffle(choices)\n",
    "    return next_ques,pic_link,choices\n",
    "\n",
    "\n",
    "\n",
    "from tkinter import *\n",
    "from tkinter import scrolledtext\n",
    "import urllib.request\n",
    "from PIL import Image, ImageTk\n",
    "from io import BytesIO\n",
    "\n",
    "#functions to be implemented: connect each page to the randomly generated question\n",
    "#user can choose from a multiple choice question\n",
    "#user is told right or wrong\n",
    "#count the correct answer number\n",
    "#quit button\n",
    "class quizGUI:\n",
    "    \n",
    "    def __init__(self):\n",
    "        root = Tk()\n",
    "        root.lift()\n",
    "        root.attributes(\"-topmost\", True)\n",
    "        root.geometry(\"800x600\")\n",
    "        root.title(\"MET-Q\")\n",
    "        self.root = root\n",
    "        \n",
    "        #canvas\n",
    "        canvas_width = 800\n",
    "        canvas_height = 600\n",
    "        canvas = Canvas(root, height=canvas_height, width=canvas_width)\n",
    "        self.canvas=canvas\n",
    "        \n",
    "\n",
    "        #correct/incorrect indicator\n",
    "        var=StringVar()\n",
    "        self.cor_label=Label(root,textvariable=var)\n",
    "        self.var=var\n",
    "        self.cor_label.grid(row=0,column=8)\n",
    "        \n",
    "        #title label\n",
    "        self.title_label = Label(root, text=\"The MET Quiz\", font = \"Times 20 bold\")\n",
    "        self.title_label.grid(row=0,column=1,columnspan=7)\n",
    "    \n",
    "        #record the number of correct answers so far\n",
    "        self.total = IntVar() \n",
    "        self.total_var=StringVar()\n",
    "        self.total_var.set('Number of correct answers: 0')\n",
    "        self.score_label = Label(root,textvariable=self.total_var)\n",
    "        self.score_label.grid(row=1,column=0,columnspan=3)\n",
    "        \n",
    "        #record the number of questions completed so far\n",
    "        self.num_var=StringVar()\n",
    "        self.num=IntVar()\n",
    "        self.num_var.set('Questions completed: 0')\n",
    "        self.num_of_ques=Label(root,textvariable=self.num_var)\n",
    "        self.num_of_ques.grid(row=1,column=5,columnspan=3)\n",
    "    \n",
    "        #question stem\n",
    "        question_var=StringVar()\n",
    "        self.Q = Label(root, textvariable=question_var)\n",
    "        question_var.set(return_question()[0])\n",
    "        self.Q.grid(row=2,columnspan=9)\n",
    "        self.question_var=question_var\n",
    "        \n",
    "#       Question picture\n",
    "        URL=return_question()[1]\n",
    "        u = urllib.request.urlopen(URL)\n",
    "        raw_data = u.read()\n",
    "        u.close()\n",
    "        image_file = Image.open(BytesIO(raw_data))\n",
    "        image_file=image_file.resize((200,200),Image.ANTIALIAS)\n",
    "        photo_image = ImageTk.PhotoImage(image_file)\n",
    "        self.pic = Label(root,image=photo_image)\n",
    "        self.pic.grid(row=3,columnspan=9)\n",
    "        \n",
    "        #choice buttons\n",
    "        self.choice_A=StringVar()\n",
    "        self.choice_A.set(return_question()[2][0])\n",
    "        self.choice_B=StringVar()\n",
    "        self.choice_B.set(return_question()[2][1])\n",
    "        self.choice_C=StringVar()\n",
    "        self.choice_C.set(return_question()[2][2])\n",
    "        self.choice_D=StringVar()\n",
    "        self.choice_D.set(return_question()[2][3])\n",
    "        self.A = Button(root, textvariable=self.choice_A,command=lambda: self.correct()).grid(row=4,columnspan=4)\n",
    "        self.B = Button(root, textvariable=self.choice_B,command=lambda: self.incorrect()).grid(row=5,columnspan=4)\n",
    "        self.C = Button(root, textvariable=self.choice_C,command=lambda: self.incorrect()).grid(row=6,columnspan=4)\n",
    "        self.D = Button(root, textvariable=self.choice_D,command=lambda: self.incorrect()).grid(row=7,columnspan=4)\n",
    "        self.next=Button(root,text='Next question',command=lambda:self.next_()).grid(row=8,column=1,columnspan=2)\n",
    "\n",
    "        #quit button\n",
    "        self.close_button=Button(root, text=\"Quit\", command=lambda: root.destroy())\n",
    "        self.close_button.grid(row=8,column=3)\n",
    "          \n",
    "        root.mainloop() \n",
    "        \n",
    "\n",
    "    #add 1 to score if the correct answer is chosen\n",
    "    def correct(self):\n",
    "        self.var.set('Correct')\n",
    "        self.total.set(self.total.get() + 1) \n",
    "        self.total_var.set('Number of correct answers: '+str(self.total.get()))\n",
    "    \n",
    "    def incorrect(self):\n",
    "        self.var.set('Incorrect')\n",
    "\n",
    "        \n",
    "    def next_(self):\n",
    "        next_question=return_question()\n",
    "        self.question_var.set(next_question[0])\n",
    "        self.num.set(self.num.get()+1)\n",
    "        self.num_var.set('Questions completed: '+str(self.num.get()))\n",
    "        self.choice_A.set(next_question[2][0])\n",
    "        self.choice_B.set(next_question[2][1])\n",
    "        self.choice_C.set(next_question[2][2])\n",
    "        self.choice_D.set(next_question[2][3])"
   ]
  },
  {
   "cell_type": "code",
   "execution_count": 22,
   "metadata": {},
   "outputs": [],
   "source": [
    "quiz=quizGUI()"
   ]
  },
  {
   "cell_type": "code",
   "execution_count": 17,
   "metadata": {},
   "outputs": [
    {
     "data": {
      "text/plain": [
       "['C', 'A', 'D', 'B']"
      ]
     },
     "execution_count": 17,
     "metadata": {},
     "output_type": "execute_result"
    }
   ],
   "source": [
    "return_question()[2]"
   ]
  },
  {
   "cell_type": "code",
   "execution_count": 18,
   "metadata": {},
   "outputs": [
    {
     "name": "stdout",
     "output_type": "stream",
     "text": [
      "['B', 'A', 'D', 'C']\n"
     ]
    }
   ],
   "source": [
    "print(choices)"
   ]
  },
  {
   "cell_type": "code",
   "execution_count": null,
   "metadata": {},
   "outputs": [],
   "source": []
  }
 ],
 "metadata": {
  "kernelspec": {
   "display_name": "Python 3",
   "language": "python",
   "name": "python3"
  },
  "language_info": {
   "codemirror_mode": {
    "name": "ipython",
    "version": 3
   },
   "file_extension": ".py",
   "mimetype": "text/x-python",
   "name": "python",
   "nbconvert_exporter": "python",
   "pygments_lexer": "ipython3",
   "version": "3.6.5"
  }
 },
 "nbformat": 4,
 "nbformat_minor": 2
}
