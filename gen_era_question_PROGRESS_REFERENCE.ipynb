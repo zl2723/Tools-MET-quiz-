{
 "cells": [
  {
   "cell_type": "code",
   "execution_count": 11,
   "metadata": {},
   "outputs": [],
   "source": [
    "def gen_era_question(century):\n",
    "    import random\n",
    "    interval=2 #the larger the interval, the easier; must be integers\n",
    "    choices_u_bound=min(century+interval*random.randint(0,3),21)\n",
    "    choice_list=[choices_u_bound,choices_u_bound-2,choices_u_bound-4,choices_u_bound-6]\n",
    "    random.shuffle(choice_list)\n",
    "    choices=dict()\n",
    "    i=0\n",
    "    for x in ['A','B','C','D']:\n",
    "        choice=choice_list[i]\n",
    "        if choice >0:\n",
    "            choices[x]=f'A.D. {choice}th century'\n",
    "        else:\n",
    "            choice[x]=f'{choice}the century B.C.'\n",
    "        i+=1\n",
    "    return choices"
   ]
  },
  {
   "cell_type": "code",
   "execution_count": 13,
   "metadata": {},
   "outputs": [
    {
     "name": "stdout",
     "output_type": "stream",
     "text": [
      "{'A': 'A.D. 18th century', 'B': 'A.D. 16th century', 'C': 'A.D. 14th century', 'D': 'A.D. 20th century'}\n"
     ]
    }
   ],
   "source": [
    "print(gen_era_question(18))"
   ]
  }
 ],
 "metadata": {
  "kernelspec": {
   "display_name": "Python 3",
   "language": "python",
   "name": "python3"
  },
  "language_info": {
   "codemirror_mode": {
    "name": "ipython",
    "version": 3
   },
   "file_extension": ".py",
   "mimetype": "text/x-python",
   "name": "python",
   "nbconvert_exporter": "python",
   "pygments_lexer": "ipython3",
   "version": "3.6.5"
  }
 },
 "nbformat": 4,
 "nbformat_minor": 2
}
