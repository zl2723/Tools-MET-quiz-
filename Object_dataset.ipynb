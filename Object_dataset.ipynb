{
 "cells": [
  {
   "cell_type": "code",
   "execution_count": 3,
   "metadata": {},
   "outputs": [],
   "source": [
    "def get_met_objects():\n",
    "    url = 'https://collectionapi.metmuseum.org/public/collection/v1/objects'\n",
    "    object_id_list = []\n",
    "    import requests\n",
    "    try:\n",
    "        response = requests.get(url)\n",
    "        if not response.status_code == 200:\n",
    "            print(\"HTTP error\",response.status_code)\n",
    "        else:\n",
    "            try:\n",
    "                response_data = response.json()\n",
    "            except:\n",
    "                return list()\n",
    "    except:\n",
    "        print(\"Issue running the requests function\")\n",
    "        return list()\n",
    "    \n",
    "    object_id_list = response_data['objectIDs']\n",
    "    url_list = []\n",
    "    for x in object_id_list:\n",
    "        url = 'https://collectionapi.metmuseum.org/public/collection/v1/objects/'+str(x)\n",
    "        url_list.append(url)\n",
    "        \n",
    "    return url_list"
   ]
  },
  {
   "cell_type": "code",
   "execution_count": 4,
   "metadata": {},
   "outputs": [
    {
     "ename": "ModuleNotFoundError",
     "evalue": "No module named 'grequests'",
     "output_type": "error",
     "traceback": [
      "\u001b[0;31m---------------------------------------------------------------------------\u001b[0m",
      "\u001b[0;31mModuleNotFoundError\u001b[0m                       Traceback (most recent call last)",
      "\u001b[0;32m<ipython-input-4-70fca198f3e2>\u001b[0m in \u001b[0;36m<module>\u001b[0;34m()\u001b[0m\n\u001b[1;32m      1\u001b[0m \u001b[0murl_list\u001b[0m \u001b[0;34m=\u001b[0m \u001b[0mget_met_objects\u001b[0m\u001b[0;34m(\u001b[0m\u001b[0;34m)\u001b[0m\u001b[0;34m\u001b[0m\u001b[0m\n\u001b[0;32m----> 2\u001b[0;31m \u001b[0;32mimport\u001b[0m \u001b[0mgrequests\u001b[0m\u001b[0;34m\u001b[0m\u001b[0m\n\u001b[0m\u001b[1;32m      3\u001b[0m \u001b[0;32mimport\u001b[0m \u001b[0mtime\u001b[0m\u001b[0;34m\u001b[0m\u001b[0m\n\u001b[1;32m      4\u001b[0m \u001b[0mstart_time\u001b[0m \u001b[0;34m=\u001b[0m \u001b[0mtime\u001b[0m\u001b[0;34m.\u001b[0m\u001b[0mtime\u001b[0m\u001b[0;34m(\u001b[0m\u001b[0;34m)\u001b[0m\u001b[0;34m\u001b[0m\u001b[0m\n\u001b[1;32m      5\u001b[0m \u001b[0;31m# try:\u001b[0m\u001b[0;34m\u001b[0m\u001b[0;34m\u001b[0m\u001b[0m\n",
      "\u001b[0;31mModuleNotFoundError\u001b[0m: No module named 'grequests'"
     ]
    }
   ],
   "source": [
    "url_list = get_met_objects()\n",
    "import grequests\n",
    "import time\n",
    "start_time = time.time()\n",
    "# try:\n",
    "\n",
    "\n",
    "requests = (grequests.get(url) for url in url_list)\n",
    "responses = grequests.map(requests)\n",
    "print(\"dict: --- %s seconds ---\" % (time.time() - start_time))\n",
    "\n",
    "start_time = time.time()\n",
    "json = [response.json() for response in responses]\n",
    "pprint.pprint(json)\n",
    "print(\"dict: --- %s seconds ---\" % (time.time() - start_time))\n",
    "\n",
    "#     if not response.status_code == 200:\n",
    "#         print(\"HTTP error\",response.status_code)\n",
    "#     else:\n",
    "#         try:\n",
    "#             response_data = response.json()\n",
    "#         except:\n",
    "#             return dict()\n",
    "# except:\n",
    "#     print(\"Issue running the requests function\")\n",
    "#     return dict()"
   ]
  },
  {
   "cell_type": "code",
   "execution_count": null,
   "metadata": {},
   "outputs": [],
   "source": [
    "def get_object_info(url_list):  \n",
    "    \n",
    "    import time\n",
    "    start_time = time.time()\n",
    "\n",
    "    import requests\n",
    "\n",
    "    try:\n",
    "        response = (grequests.get(url) for url in url_list)\n",
    "        if not response.status_code == 200:\n",
    "            print(\"HTTP error\",response.status_code)\n",
    "        else:\n",
    "            try:\n",
    "                response_data = response.json()\n",
    "            except:\n",
    "                return dict()\n",
    "    except:\n",
    "        print(\"Issue running the requests function\")\n",
    "        return dict()\n",
    "    \n",
    "    print(\"get json: --- %s seconds ---\" % (time.time() - start_time))\n",
    "    \n",
    "    import time\n",
    "    start_time = time.time()\n",
    "    \n",
    "    info_dict = dict()\n",
    "    for x in response_data.items():\n",
    "        if x[0] == 'objectID':\n",
    "            continue\n",
    "        info_dict[x[0]] = x[1]\n",
    "        \n",
    "    print(\"info dict: --- %s seconds ---\" % (time.time() - start_time))\n",
    "    \n",
    "    return info_dict"
   ]
  },
  {
   "cell_type": "code",
   "execution_count": null,
   "metadata": {},
   "outputs": [],
   "source": [
    "def art_database():\n",
    "    import time\n",
    "    object_id_list = range(1,50)\n",
    "\n",
    "#     start_time = time.time()\n",
    "#     object_id_list = get_met_objects()\n",
    "#     print(\"get json: --- %s seconds ---\" % (time.time() - start_time))\n",
    "    \n",
    "    start_time = time.time()\n",
    "    database_dict = dict.fromkeys(object_id_list,None)\n",
    "    print(\"dict: --- %s seconds ---\" % (time.time() - start_time))\n",
    "    \n",
    "    url_list = []\n",
    "    for x in database_dict.keys():\n",
    "        url = 'https://collectionapi.metmuseum.org/public/collection/v1/objects/'+str(x)\n",
    "        url_list.append(url)\n",
    "        \n",
    "        \n",
    "        info_dict = get_object_info(url_list)\n",
    "        database_dict[x] = info_dict\n",
    "    \n",
    "    return database_dict"
   ]
  },
  {
   "cell_type": "code",
   "execution_count": null,
   "metadata": {},
   "outputs": [],
   "source": [
    "def art_database_2():\n",
    "    import time\n",
    "    object_id_list = range(1,50)\n",
    "\n",
    "#     start_time = time.time()\n",
    "#     object_id_list = get_met_objects()\n",
    "#     print(\"get json: --- %s seconds ---\" % (time.time() - start_time))\n",
    "    \n",
    "    start_time = time.time()\n",
    "    database_dict = dict.fromkeys(object_id_list,None)\n",
    "    print(\"dict: --- %s seconds ---\" % (time.time() - start_time))\n",
    "    \n",
    "    for x in database_dict.keys():\n",
    "        url = 'https://collectionapi.metmuseum.org/public/collection/v1/objects/'+str(x)\n",
    "        info_dict = get_object_info(url)\n",
    "        database_dict[x] = info_dict\n",
    "    \n",
    "    return database_dict"
   ]
  },
  {
   "cell_type": "code",
   "execution_count": null,
   "metadata": {},
   "outputs": [],
   "source": [
    "question_pool = {\n",
    "    'Which era is this art from': 'era'\n",
    "    'Who created this art': 'artistDisplayName'\n",
    "    'What is the name of this art': 'title'\n",
    "}"
   ]
  },
  {
   "cell_type": "code",
   "execution_count": null,
   "metadata": {},
   "outputs": [],
   "source": [
    "art_database()"
   ]
  },
  {
   "cell_type": "code",
   "execution_count": null,
   "metadata": {},
   "outputs": [],
   "source": []
  }
 ],
 "metadata": {
  "kernelspec": {
   "display_name": "Python 3",
   "language": "python",
   "name": "python3"
  },
  "language_info": {
   "codemirror_mode": {
    "name": "ipython",
    "version": 3
   },
   "file_extension": ".py",
   "mimetype": "text/x-python",
   "name": "python",
   "nbconvert_exporter": "python",
   "pygments_lexer": "ipython3",
   "version": "3.6.5"
  }
 },
 "nbformat": 4,
 "nbformat_minor": 2
}
