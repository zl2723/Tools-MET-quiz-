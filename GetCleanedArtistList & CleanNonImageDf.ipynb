{
 "cells": [
  {
   "cell_type": "code",
   "execution_count": 1,
   "metadata": {},
   "outputs": [
    {
     "name": "stderr",
     "output_type": "stream",
     "text": [
      "/Users/VIVI_Y/anaconda3/lib/python3.6/site-packages/IPython/core/interactiveshell.py:2785: DtypeWarning: Columns (7,8,9,10,11,18,27,28,29,30,31,32,33,34,35,36,37,39) have mixed types. Specify dtype option on import or set low_memory=False.\n",
      "  interactivity=interactivity, compiler=compiler, result=result)\n"
     ]
    }
   ],
   "source": [
    "import pandas as pd\n",
    "\n",
    "df = pd.read_csv('https://media.githubusercontent.com/media/metmuseum/openaccess/master/MetObjects.csv')"
   ]
  },
  {
   "cell_type": "code",
   "execution_count": 2,
   "metadata": {},
   "outputs": [],
   "source": [
    "def getCleanedArtistList(df):\n",
    "    artist_not_null_df = df[pd.notna(df['Artist Display Name'])]\n",
    "    artist_tuple_list = list(zip(artist_not_null_df['Object ID'], artist_not_null_df['Artist Display Name'].astype(str)))\n",
    "    artist_list_del = []\n",
    "    artist_list = [list(i) for i in artist_tuple_list]\n",
    "    for j in artist_list:\n",
    "            if ('painter' in j[1]) or ('Painter' in j[1]) or ('artist' in j[1]):\n",
    "                artist_list_del.append(j)\n",
    "    artist_list = [n for n in artist_list if n not in artist_list_del]\n",
    "    return artist_list#artistCleanDataFrame"
   ]
  },
  {
   "cell_type": "code",
   "execution_count": 5,
   "metadata": {},
   "outputs": [
    {
     "data": {
      "text/plain": [
       "Index(['Object Number', 'Is Highlight', 'Is Public Domain', 'Object ID',\n",
       "       'Department', 'Object Name', 'Title', 'Culture', 'Period', 'Dynasty',\n",
       "       'Reign', 'Portfolio', 'Artist Role', 'Artist Prefix',\n",
       "       'Artist Display Name', 'Artist Display Bio', 'Artist Suffix',\n",
       "       'Artist Alpha Sort', 'Artist Nationality', 'Artist Begin Date',\n",
       "       'Artist End Date', 'Object Date', 'Object Begin Date',\n",
       "       'Object End Date', 'Medium', 'Dimensions', 'Credit Line',\n",
       "       'Geography Type', 'City', 'State', 'County', 'Country', 'Region',\n",
       "       'Subregion', 'Locale', 'Locus', 'Excavation', 'River', 'Classification',\n",
       "       'Rights and Reproduction', 'Link Resource', 'Metadata Date',\n",
       "       'Repository'],\n",
       "      dtype='object')"
      ]
     },
     "execution_count": 5,
     "metadata": {},
     "output_type": "execute_result"
    }
   ],
   "source": [
    "df.columns"
   ]
  },
  {
   "cell_type": "code",
   "execution_count": 85,
   "metadata": {},
   "outputs": [
    {
     "data": {
      "text/plain": [
       "'1100'"
      ]
     },
     "execution_count": 85,
     "metadata": {},
     "output_type": "execute_result"
    }
   ],
   "source": [
    "obj_id = '1100'\n",
    "import requests\n",
    "import json\n",
    "from bs4 import BeautifulSoup\n",
    "url = 'https://collectionapi.metmuseum.org/public/collection/v1/objects/'+ obj_id\n",
    "results_page = requests.get(url)\n",
    "#type(results_page.content)\n",
    "sectors_part = results_page.content.decode('utf-8')\n",
    "image_str = sectors_part.split(\",\")\n",
    "obj_id_line = image_str[0]\n",
    "obj_id_line[obj_id_line.find('ID')+4:]"
   ]
  },
  {
   "cell_type": "code",
   "execution_count": 91,
   "metadata": {
    "scrolled": true
   },
   "outputs": [],
   "source": [
    "def getImageUrl(obj_id):\n",
    "    objid = '1100'\n",
    "    import requests\n",
    "    import json\n",
    "    from bs4 import BeautifulSoup\n",
    "    url = 'https://collectionapi.metmuseum.org/public/collection/v1/objects/'+ objid\n",
    "    results_page = requests.get(url)\n",
    "    #type(results_page.content)\n",
    "    sectors_part = results_page.content.decode('utf-8')\n",
    "    image_str = sectors_part.split(\",\")[4]\n",
    "    print(obj_id)\n",
    "    if image_str[image_str.find('primary')+15 : -1] != \"\" :\n",
    "        return (image_str[image_str.find('primary')+15 : -1])"
   ]
  },
  {
   "cell_type": "code",
   "execution_count": 11,
   "metadata": {},
   "outputs": [
    {
     "data": {
      "text/plain": [
       "Object Number                                                    1980.502.71\n",
       "Is Highlight                                                           False\n",
       "Is Public Domain                                                        True\n",
       "Object ID                                                               1100\n",
       "Department                                          American Decorative Arts\n",
       "Object Name                                                           Bottle\n",
       "Title                                                                 Bottle\n",
       "Culture                                                             American\n",
       "Period                                                                   NaN\n",
       "Dynasty                                                                  NaN\n",
       "Reign                                                                    NaN\n",
       "Portfolio                                                                NaN\n",
       "Artist Role                                                              NaN\n",
       "Artist Prefix                                                            NaN\n",
       "Artist Display Name                                                      NaN\n",
       "Artist Display Bio                                                       NaN\n",
       "Artist Suffix                                                            NaN\n",
       "Artist Alpha Sort                                                        NaN\n",
       "Artist Nationality                                                       NaN\n",
       "Artist Begin Date                                                        NaN\n",
       "Artist End Date                                                          NaN\n",
       "Object Date                                                          1815–45\n",
       "Object Begin Date                                                       1815\n",
       "Object End Date                                                         1815\n",
       "Medium                                           Blown, pattern-molded glass\n",
       "Dimensions                                                H. 8 in. (20.3 cm)\n",
       "Credit Line                                    Gift of Henry G. Schiff, 1980\n",
       "Geography Type                             Possibly made in|Possibly made in\n",
       "City                                                                     NaN\n",
       "State                                                                    NaN\n",
       "County                                                                   NaN\n",
       "Country                                          United States|United States\n",
       "Region                                                                   NaN\n",
       "Subregion                                                                NaN\n",
       "Locale                                                                   NaN\n",
       "Locus                                                                    NaN\n",
       "Excavation                                                               NaN\n",
       "River                                                                    NaN\n",
       "Classification                                                         Glass\n",
       "Rights and Reproduction                                                  NaN\n",
       "Link Resource              http://www.metmuseum.org/art/collection/search...\n",
       "Metadata Date                                          11/26/2018 8:00:04 AM\n",
       "Repository                          Metropolitan Museum of Art, New York, NY\n",
       "Name: 1015, dtype: object"
      ]
     },
     "execution_count": 11,
     "metadata": {},
     "output_type": "execute_result"
    }
   ],
   "source": [
    "df.iloc[1015]"
   ]
  },
  {
   "cell_type": "code",
   "execution_count": null,
   "metadata": {},
   "outputs": [],
   "source": []
  }
 ],
 "metadata": {
  "kernelspec": {
   "display_name": "Python 3",
   "language": "python",
   "name": "python3"
  },
  "language_info": {
   "codemirror_mode": {
    "name": "ipython",
    "version": 3
   },
   "file_extension": ".py",
   "mimetype": "text/x-python",
   "name": "python",
   "nbconvert_exporter": "python",
   "pygments_lexer": "ipython3",
   "version": "3.6.5"
  }
 },
 "nbformat": 4,
 "nbformat_minor": 2
}
