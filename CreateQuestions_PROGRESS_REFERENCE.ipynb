{
 "cells": [
  {
   "cell_type": "code",
   "execution_count": 1,
   "metadata": {},
   "outputs": [],
   "source": [
    "def get_artist(ind):\n",
    "    return df.iloc[ind]['Artist Display Name']"
   ]
  },
  {
   "cell_type": "code",
   "execution_count": 2,
   "metadata": {},
   "outputs": [],
   "source": [
    "def get_time(ind):\n",
    "    return df.iloc[ind]['Period']"
   ]
  },
  {
   "cell_type": "code",
   "execution_count": 3,
   "metadata": {},
   "outputs": [],
   "source": [
    "def get_material(ind):\n",
    "    return df.iloc[ind]['Medium']"
   ]
  },
  {
   "cell_type": "code",
   "execution_count": 4,
   "metadata": {},
   "outputs": [],
   "source": [
    "def get_country(ind):\n",
    "    return df.iloc[ind]['Country']"
   ]
  },
  {
   "cell_type": "code",
   "execution_count": 5,
   "metadata": {},
   "outputs": [],
   "source": [
    "def get_department(ind):\n",
    "    return df.iloc[ind]['Department']"
   ]
  },
  {
   "cell_type": "code",
   "execution_count": 6,
   "metadata": {},
   "outputs": [],
   "source": [
    "def questions(category, obj):\n",
    "    Q = random.randint(0,4)\n",
    "    if category is 'artist':\n",
    "        Q = 0\n",
    "        question = \"Who is the artist for this piece of work?\"\n",
    "        correct = get_artist(obj)\n",
    "        wrong1 = get_artist(w1)\n",
    "        wrong2 = get_artist(w2)\n",
    "        wrong3 = get_artist(w3)\n",
    "    elif category is 'time':\n",
    "        Q = 1\n",
    "        question = \"During which time period was this artwork created?\"\n",
    "        correct = get_time(obj)\n",
    "        wrong1 = get_time(w1)\n",
    "        wrong2 = get_time(w2)\n",
    "        wrong3 = get_time(w3)\n",
    "    elif category is 'material':\n",
    "        Q = 2\n",
    "        question = \"What kind of main material did this object use?\"\n",
    "        correct = get_material(obj)\n",
    "        wrong1 = get_material(w1)\n",
    "        wrong2 = get_material(w2)\n",
    "        wrong3 = get_material(w3)\n",
    "    elif category is 'country':\n",
    "        Q = 3\n",
    "        question = \"Which country is this artwork originated from?\"\n",
    "        correct = get_country(obj)\n",
    "        wrong1 = get_country(w1)\n",
    "        wrong2 = get_country(w2)\n",
    "        wrong3 = get_country(w3)\n",
    "    else: #department\n",
    "        question = \"Which department does this exhibit belong to?\"\n",
    "        correct = get_department(obj)\n",
    "        wrong1 = get_department(w1)\n",
    "        wrong2 = get_department(w2)\n",
    "        wrong3 = get_department(w3)\n",
    "    return [wrong1,wrong2,wrong3,correct]"
   ]
  },
  {
   "cell_type": "code",
   "execution_count": 9,
   "metadata": {},
   "outputs": [
    {
     "ename": "NameError",
     "evalue": "name 'category' is not defined",
     "output_type": "error",
     "traceback": [
      "\u001b[0;31m---------------------------------------------------------------------------\u001b[0m",
      "\u001b[0;31mNameError\u001b[0m                                 Traceback (most recent call last)",
      "\u001b[0;32m<ipython-input-9-05196de365c9>\u001b[0m in \u001b[0;36m<module>\u001b[0;34m()\u001b[0m\n\u001b[1;32m      4\u001b[0m \u001b[0;32mimport\u001b[0m \u001b[0mrandom\u001b[0m\u001b[0;34m\u001b[0m\u001b[0m\n\u001b[1;32m      5\u001b[0m \u001b[0;32mfrom\u001b[0m \u001b[0mrandom\u001b[0m \u001b[0;32mimport\u001b[0m \u001b[0mshuffle\u001b[0m\u001b[0;34m\u001b[0m\u001b[0m\n\u001b[0;32m----> 6\u001b[0;31m \u001b[0manswer_list\u001b[0m \u001b[0;34m=\u001b[0m \u001b[0mquestions\u001b[0m\u001b[0;34m(\u001b[0m\u001b[0mcategory\u001b[0m\u001b[0;34m,\u001b[0m \u001b[0mchosen_art\u001b[0m\u001b[0;34m)\u001b[0m\u001b[0;34m\u001b[0m\u001b[0m\n\u001b[0m\u001b[1;32m      7\u001b[0m \u001b[0mindex_list\u001b[0m \u001b[0;34m=\u001b[0m \u001b[0;34m[\u001b[0m\u001b[0;34m'A'\u001b[0m\u001b[0;34m,\u001b[0m\u001b[0;34m'B'\u001b[0m\u001b[0;34m,\u001b[0m\u001b[0;34m'C'\u001b[0m\u001b[0;34m,\u001b[0m\u001b[0;34m'D'\u001b[0m\u001b[0;34m]\u001b[0m\u001b[0;34m\u001b[0m\u001b[0m\n\u001b[1;32m      8\u001b[0m \u001b[0mrandom\u001b[0m\u001b[0;34m.\u001b[0m\u001b[0mshuffle\u001b[0m\u001b[0;34m(\u001b[0m\u001b[0manswer_list\u001b[0m\u001b[0;34m)\u001b[0m\u001b[0;34m\u001b[0m\u001b[0m\n",
      "\u001b[0;31mNameError\u001b[0m: name 'category' is not defined"
     ]
    }
   ],
   "source": [
    "#generates a multiple question based on the category and chosen_art\n",
    "#produced in Object_dataset\n",
    "#check if user input is correct and print message accordingly\n",
    "import random\n",
    "from random import shuffle\n",
    "answer_list = questions(category, chosen_art)\n",
    "index_list = ['A','B','C','D']\n",
    "random.shuffle(answer_list)\n",
    "answer = dict(zip(index_list,answer_list))\n",
    "answer_key = [key for key, value in answer.items() if value == correct]\n",
    "def check_correct(user_input):\n",
    "    result = False\n",
    "    if user_input == answer_key:\n",
    "        result = True\n",
    "        print(\"You are correct!\")\n",
    "    else:\n",
    "        print(\"Oops! Incorrect answer!\")"
   ]
  },
  {
   "cell_type": "code",
   "execution_count": null,
   "metadata": {},
   "outputs": [],
   "source": []
  }
 ],
 "metadata": {
  "kernelspec": {
   "display_name": "Python 3",
   "language": "python",
   "name": "python3"
  },
  "language_info": {
   "codemirror_mode": {
    "name": "ipython",
    "version": 3
   },
   "file_extension": ".py",
   "mimetype": "text/x-python",
   "name": "python",
   "nbconvert_exporter": "python",
   "pygments_lexer": "ipython3",
   "version": "3.6.5"
  }
 },
 "nbformat": 4,
 "nbformat_minor": 2
}
