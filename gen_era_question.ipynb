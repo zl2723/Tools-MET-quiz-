{
 "cells": [
  {
   "cell_type": "code",
   "execution_count": 39,
   "metadata": {},
   "outputs": [],
   "source": [
    "def gen_era_question(objectdate):\n",
    "    import random\n",
    "    interval=2 #the larger the interval, the easier\n",
    "    century=int(objectdate[0:2])+1\n",
    "    choices_u_bound=min(century+interval*random.randint(0,3),21)\n",
    "    choice_list=[choices_u_bound,choices_u_bound-2,choices_u_bound-4,choices_u_bound-6]\n",
    "    random.shuffle(choice_list)\n",
    "    choices=dict()\n",
    "    choices['A']=choice_list[0]\n",
    "    choices['B']=choice_list[1]\n",
    "    choices['C']=choice_list[2]\n",
    "    choices['D']=choice_list[3]\n",
    "    return choices"
   ]
  },
  {
   "cell_type": "code",
   "execution_count": 38,
   "metadata": {},
   "outputs": [
    {
     "name": "stdout",
     "output_type": "stream",
     "text": [
      "{'A': 15, 'B': 19, 'C': 21, 'D': 17}\n"
     ]
    }
   ],
   "source": [
    "print(gen_era_question('1865'))"
   ]
  },
  {
   "cell_type": "markdown",
   "metadata": {},
   "source": [
    "<li> What if some objects date back to before 1st century?\n",
    "<li> Different foramats of objectdate?"
   ]
  },
  {
   "cell_type": "code",
   "execution_count": null,
   "metadata": {},
   "outputs": [],
   "source": []
  }
 ],
 "metadata": {
  "kernelspec": {
   "display_name": "Python 3",
   "language": "python",
   "name": "python3"
  },
  "language_info": {
   "codemirror_mode": {
    "name": "ipython",
    "version": 3
   },
   "file_extension": ".py",
   "mimetype": "text/x-python",
   "name": "python",
   "nbconvert_exporter": "python",
   "pygments_lexer": "ipython3",
   "version": "3.6.5"
  }
 },
 "nbformat": 4,
 "nbformat_minor": 2
}
