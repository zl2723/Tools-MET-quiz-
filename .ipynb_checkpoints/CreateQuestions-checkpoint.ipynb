{
 "cells": [
  {
   "cell_type": "code",
   "execution_count": 1,
   "metadata": {},
   "outputs": [
    {
     "ename": "NameError",
     "evalue": "name 'object_list' is not defined",
     "output_type": "error",
     "traceback": [
      "\u001b[0;31m---------------------------------------------------------------------------\u001b[0m",
      "\u001b[0;31mNameError\u001b[0m                                 Traceback (most recent call last)",
      "\u001b[0;32m<ipython-input-1-78fa2fa158a6>\u001b[0m in \u001b[0;36m<module>\u001b[0;34m()\u001b[0m\n\u001b[1;32m      1\u001b[0m \u001b[0;32mimport\u001b[0m \u001b[0mrandom\u001b[0m\u001b[0;34m\u001b[0m\u001b[0m\n\u001b[1;32m      2\u001b[0m \u001b[0;31m#obj_department_list = valid_list(department_of_obj)\u001b[0m\u001b[0;34m\u001b[0m\u001b[0;34m\u001b[0m\u001b[0m\n\u001b[0;32m----> 3\u001b[0;31m \u001b[0mcorrect\u001b[0m \u001b[0;34m=\u001b[0m \u001b[0mobject_list\u001b[0m\u001b[0;34m[\u001b[0m\u001b[0mobj_number\u001b[0m\u001b[0;34m]\u001b[0m\u001b[0;34m\u001b[0m\u001b[0m\n\u001b[0m\u001b[1;32m      4\u001b[0m \u001b[0mwrongs\u001b[0m \u001b[0;34m=\u001b[0m \u001b[0;34m[\u001b[0m\u001b[0mobject_department_list\u001b[0m\u001b[0;34m[\u001b[0m\u001b[0mi\u001b[0m\u001b[0;34m]\u001b[0m \u001b[0;32mfor\u001b[0m \u001b[0mi\u001b[0m \u001b[0;32min\u001b[0m \u001b[0mrandom\u001b[0m\u001b[0;34m.\u001b[0m\u001b[0msample\u001b[0m\u001b[0;34m(\u001b[0m\u001b[0mrange\u001b[0m\u001b[0;34m(\u001b[0m\u001b[0;36m1\u001b[0m\u001b[0;34m,\u001b[0m \u001b[0mlen\u001b[0m\u001b[0;34m(\u001b[0m\u001b[0mdepartment_of_obj\u001b[0m\u001b[0;34m)\u001b[0m\u001b[0;34m)\u001b[0m\u001b[0;34m,\u001b[0m \u001b[0;36m3\u001b[0m\u001b[0;34m)\u001b[0m \u001b[0;32mand\u001b[0m \u001b[0mi\u001b[0m \u001b[0;34m!=\u001b[0m \u001b[0mobj_number\u001b[0m\u001b[0;34m]\u001b[0m\u001b[0;34m\u001b[0m\u001b[0m\n\u001b[1;32m      5\u001b[0m \u001b[0mw1\u001b[0m \u001b[0;34m=\u001b[0m \u001b[0mwrongs\u001b[0m\u001b[0;34m[\u001b[0m\u001b[0;36m0\u001b[0m\u001b[0;34m]\u001b[0m\u001b[0;34m\u001b[0m\u001b[0m\n",
      "\u001b[0;31mNameError\u001b[0m: name 'object_list' is not defined"
     ]
    }
   ],
   "source": [
    "import random\n",
    "#obj_department_list = valid_list(department_of_obj)\n",
    "correct = object_list[obj_number]\n",
    "wrongs = [object_department_list[i] for i in random.sample(range(1, len(department_of_obj)), 3) and i != obj_number]\n",
    "w1 = wrongs[0]\n",
    "w2 = wrongs[1]\n",
    "w3 = wrongs[2]\n",
    "Q = random.randint(0,4)"
   ]
  },
  {
   "cell_type": "code",
   "execution_count": 2,
   "metadata": {},
   "outputs": [],
   "source": [
    "def questions(category, obj):\n",
    "    if category is 'artist':\n",
    "        Q = 0\n",
    "        question = \"Who is the artist for this piece of work?\"\n",
    "        correct = obj.get_artist()\n",
    "        wrong1 = get_artist(w1)\n",
    "        wrong2 = w2.get_artist()\n",
    "        wrong3 = w3.get_artist()\n",
    "    elif category is 'time':\n",
    "        Q = 1\n",
    "        question = \"During which time period was this artwork created?\"\n",
    "        correct = obj.get_time()\n",
    "        wrong1 = w1.get_time()\n",
    "        wrong2 = w2.get_time()\n",
    "        wrong3 = w3.get_time()\n",
    "    elif category is 'material':\n",
    "        Q = 2\n",
    "        question = \"What kind of main material did this object use?\"\n",
    "        correct = obj.get_material()\n",
    "        wrong1 = w1.get_material()\n",
    "        wrong2 = w2.get_material()\n",
    "        wrong3 = w3.get_material()\n",
    "    elif category is 'type':\n",
    "        Q = 3\n",
    "        question = \"What type of artwork is this?\"\n",
    "        correct = obj.get_type()\n",
    "        wrong1 = w1.get_type()\n",
    "        wrong2 = w2.get_type()\n",
    "        wrong3 = w3.get_type()\n",
    "    else: #department\n",
    "        question = \"Which department does this exhibit belong to?\"\n",
    "        correct = obj.get_department()\n",
    "        wrong1 = w1.get_department()\n",
    "        wrong2 = w2.get_department()\n",
    "        wrong3 = w3.get_department()"
   ]
  },
  {
   "cell_type": "code",
   "execution_count": 3,
   "metadata": {},
   "outputs": [
    {
     "ename": "NameError",
     "evalue": "name 'wrong1' is not defined",
     "output_type": "error",
     "traceback": [
      "\u001b[0;31m---------------------------------------------------------------------------\u001b[0m",
      "\u001b[0;31mNameError\u001b[0m                                 Traceback (most recent call last)",
      "\u001b[0;32m<ipython-input-3-b425d00641f2>\u001b[0m in \u001b[0;36m<module>\u001b[0;34m()\u001b[0m\n\u001b[1;32m      1\u001b[0m \u001b[0;32mimport\u001b[0m \u001b[0mrandom\u001b[0m\u001b[0;34m\u001b[0m\u001b[0m\n\u001b[1;32m      2\u001b[0m \u001b[0;32mfrom\u001b[0m \u001b[0mrandom\u001b[0m \u001b[0;32mimport\u001b[0m \u001b[0mshuffle\u001b[0m\u001b[0;34m\u001b[0m\u001b[0m\n\u001b[0;32m----> 3\u001b[0;31m \u001b[0manswer_list\u001b[0m \u001b[0;34m=\u001b[0m \u001b[0;34m[\u001b[0m\u001b[0mwrong1\u001b[0m\u001b[0;34m,\u001b[0m\u001b[0mwrong2\u001b[0m\u001b[0;34m,\u001b[0m\u001b[0mwrong3\u001b[0m\u001b[0;34m,\u001b[0m\u001b[0mcorrect\u001b[0m\u001b[0;34m]\u001b[0m\u001b[0;34m\u001b[0m\u001b[0m\n\u001b[0m\u001b[1;32m      4\u001b[0m \u001b[0mindex_list\u001b[0m \u001b[0;34m=\u001b[0m \u001b[0;34m[\u001b[0m\u001b[0;34m'A'\u001b[0m\u001b[0;34m,\u001b[0m\u001b[0;34m'B'\u001b[0m\u001b[0;34m,\u001b[0m\u001b[0;34m'C'\u001b[0m\u001b[0;34m,\u001b[0m\u001b[0;34m'D'\u001b[0m\u001b[0;34m]\u001b[0m\u001b[0;34m\u001b[0m\u001b[0m\n\u001b[1;32m      5\u001b[0m \u001b[0mrandom\u001b[0m\u001b[0;34m.\u001b[0m\u001b[0mshuffle\u001b[0m\u001b[0;34m(\u001b[0m\u001b[0manswer_list\u001b[0m\u001b[0;34m)\u001b[0m\u001b[0;34m\u001b[0m\u001b[0m\n",
      "\u001b[0;31mNameError\u001b[0m: name 'wrong1' is not defined"
     ]
    }
   ],
   "source": [
    "import random\n",
    "from random import shuffle\n",
    "answer_list = [wrong1,wrong2,wrong3,correct]\n",
    "index_list = ['A','B','C','D']\n",
    "random.shuffle(answer_list)\n",
    "answer = dict(zip(index_list,answer_list))\n",
    "answer_key = [key for key, value in answer.items() if value == correct]"
   ]
  },
  {
   "cell_type": "code",
   "execution_count": null,
   "metadata": {},
   "outputs": [],
   "source": []
  }
 ],
 "metadata": {
  "kernelspec": {
   "display_name": "Python 3",
   "language": "python",
   "name": "python3"
  },
  "language_info": {
   "codemirror_mode": {
    "name": "ipython",
    "version": 3
   },
   "file_extension": ".py",
   "mimetype": "text/x-python",
   "name": "python",
   "nbconvert_exporter": "python",
   "pygments_lexer": "ipython3",
   "version": "3.6.5"
  }
 },
 "nbformat": 4,
 "nbformat_minor": 2
}
