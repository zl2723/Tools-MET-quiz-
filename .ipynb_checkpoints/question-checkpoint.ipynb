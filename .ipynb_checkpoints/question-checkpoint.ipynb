{
 "cells": [
  {
   "cell_type": "code",
   "execution_count": 1,
   "metadata": {},
   "outputs": [],
   "source": [
    "Q = 4\n",
    "correct = None\n",
    "wrong1 = None\n",
    "wrong2 = None\n",
    "wrong3 = None\n",
    "def questions(category, obj):\n",
    "    if category is 'artist':\n",
    "        Q = 0\n",
    "        print(\"Who is the artist for this piece of work?\")\n",
    "        #correct = obj.get_artist()\n",
    "        #Randomly select 3 wrong choices from artist list of the same period\n",
    "    elif category is 'time':\n",
    "        Q = 1\n",
    "        print(\"During which time period was this artwork created?\")\n",
    "        #correct = obj.get_time()\n",
    "        #Randomly select 3 wrong choices from the time list\n",
    "    elif category is 'material':\n",
    "        Q = 2\n",
    "        print(\"What kind of main material did this object use?\")\n",
    "        #correct = obj.get_material()\n",
    "        #Randomly select 3 wrong choices from the material list\n",
    "    elif category is 'type':\n",
    "        Q = 3\n",
    "        print(\"What type of artwork is this?\")\n",
    "        #correct = obj.get_type()\n",
    "        #Randomly select 3 wrong choices from the type list\n",
    "    else: #department\n",
    "        print(\"Which department does this exhibit belong to?\")\n",
    "        #correct = obj.get_department()\n",
    "        #Randomly select 3 wrong choices from the department list"
   ]
  },
  {
   "cell_type": "code",
   "execution_count": 4,
   "metadata": {},
   "outputs": [
    {
     "data": {
      "text/plain": [
       "'D'"
      ]
     },
     "execution_count": 4,
     "metadata": {},
     "output_type": "execute_result"
    }
   ],
   "source": [
    "import random\n",
    "answer = {'A': None,'B': None,'C': None,'D': None}\n",
    "choice = random.choice(list(answer))\n",
    "choice\n",
    "# answer[choice] = correct\n",
    "# for x in answer and x is not choice:\n",
    "    "
   ]
  },
  {
   "cell_type": "code",
   "execution_count": null,
   "metadata": {},
   "outputs": [],
   "source": []
  }
 ],
 "metadata": {
  "kernelspec": {
   "display_name": "Python 3",
   "language": "python",
   "name": "python3"
  },
  "language_info": {
   "codemirror_mode": {
    "name": "ipython",
    "version": 3
   },
   "file_extension": ".py",
   "mimetype": "text/x-python",
   "name": "python",
   "nbconvert_exporter": "python",
   "pygments_lexer": "ipython3",
   "version": "3.6.5"
  }
 },
 "nbformat": 4,
 "nbformat_minor": 2
}
