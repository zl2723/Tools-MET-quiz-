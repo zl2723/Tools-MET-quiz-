{
 "cells": [
  {
   "cell_type": "code",
   "execution_count": 2,
   "metadata": {},
   "outputs": [
    {
     "name": "stderr",
     "output_type": "stream",
     "text": [
      "/Users/VIVI_Y/anaconda3/lib/python3.6/site-packages/IPython/core/interactiveshell.py:2785: DtypeWarning: Columns (7,8,9,10,11,18,27,28,29,30,31,32,33,34,35,36,37,39) have mixed types. Specify dtype option on import or set low_memory=False.\n",
      "  interactivity=interactivity, compiler=compiler, result=result)\n"
     ]
    },
    {
     "data": {
      "text/plain": [
       "Index(['Object Number', 'Is Highlight', 'Is Public Domain', 'Object ID',\n",
       "       'Department', 'Object Name', 'Title', 'Culture', 'Period', 'Dynasty',\n",
       "       'Reign', 'Portfolio', 'Artist Role', 'Artist Prefix',\n",
       "       'Artist Display Name', 'Artist Display Bio', 'Artist Suffix',\n",
       "       'Artist Alpha Sort', 'Artist Nationality', 'Artist Begin Date',\n",
       "       'Artist End Date', 'Object Date', 'Object Begin Date',\n",
       "       'Object End Date', 'Medium', 'Dimensions', 'Credit Line',\n",
       "       'Geography Type', 'City', 'State', 'County', 'Country', 'Region',\n",
       "       'Subregion', 'Locale', 'Locus', 'Excavation', 'River', 'Classification',\n",
       "       'Rights and Reproduction', 'Link Resource', 'Metadata Date',\n",
       "       'Repository'],\n",
       "      dtype='object')"
      ]
     },
     "execution_count": 2,
     "metadata": {},
     "output_type": "execute_result"
    }
   ],
   "source": [
    "import pandas as pd\n",
    "\n",
    "df = pd.read_csv('https://media.githubusercontent.com/media/metmuseum/openaccess/master/MetObjects.csv')\n",
    "ID_list = list(df['Object ID'])\n",
    "df.set_index('Object ID')\n",
    "df.columns"
   ]
  },
  {
   "cell_type": "code",
   "execution_count": 21,
   "metadata": {},
   "outputs": [
    {
     "data": {
      "text/plain": [
       "Artist Display Name\n",
       "\"Bodleian painter\"                                                                                                                                                   7\n",
       "\"Father John\" of Aspam.                                                                                                                                              1\n",
       "\"In Castel Durante\" Painter                                                                                                                                          2\n",
       "\"In Castel Durante\" Painter|Maestro Giorgio Andreoli                                                                                                                 1\n",
       "\"L\"                                                                                                                                                                  1\n",
       "\"Paris painter\"                                                                                                                                                      1\n",
       "\"Rose\" factory                                                                                                                                                       2\n",
       "\"Trix\" Manufacturing Company                                                                                                                                         1\n",
       "'Abd al-'Azim al-Yahya                                                                                                                                               1\n",
       "'Abd al-'Aziz|Abu'l Qasim Firdausi                                                                                                                                   3\n",
       "'Abd al-'Aziz|Abu'l Qasim Firdausi|Aqa Mirak                                                                                                                         1\n",
       "'Abd al-'Aziz|Aqa Mirak|Abu'l Qasim Firdausi                                                                                                                         1\n",
       "'Abd al-Qadir Hisari                                                                                                                                                 2\n",
       "'Abd al-Rahim                                                                                                                                                        1\n",
       "'Abd al-Samad                                                                                                                                                        2\n",
       "'Abd al-Samad|Abu'l Qasim Firdausi                                                                                                                                   1\n",
       "'Abd al-Samad|Mir Sayyid Ali                                                                                                                                         1\n",
       "'Abd al-Vahhab|Abu'l Qasim Firdausi                                                                                                                                  6\n",
       "'Abd al-Vahhab|Abu'l Qasim Firdausi|Mir Musavvir                                                                                                                     3\n",
       "'Abdullah ibn al-Fadl                                                                                                                                                1\n",
       "'Abid                                                                                                                                                                3\n",
       "'Ali Ashraf                                                                                                                                                          1\n",
       "'Ali Quli Jabbadar                                                                                                                                                   3\n",
       "'Ali Riza                                                                                                                                                            2\n",
       "'Ali ibn Muhammad al-Barmaki                                                                                                                                         1\n",
       "(Frederick) Cayley Robinson|Edith M. Engall|Charles T. Jacobi                                                                                                        1\n",
       "(Herman) James Elroy Flecker|Thomas Mackenzie|William Heinemann Ltd.|Richard Clay & Sons, Limited                                                                    1\n",
       "(Johann Heinrich) Ferdinand Olivier                                                                                                                                  5\n",
       "(Johann Heinrich) Ferdinand Olivier|Anonymous, German, 19th century                                                                                                  1\n",
       "(Johann Heinrich) Ferdinand Olivier|Heinrich Olivier                                                                                                                 1\n",
       "                                                                                                                                                                    ..\n",
       "Étienne de Lavallée-Poussin|Claude Henri Watelet                                                                                                                     1\n",
       "Étienne de Lavallée-Poussin|Guyot|Jean Michel Moreau the Younger|Antoine Watteau|P. T. LeClere|Sabin Berthelot|J. Janneret|François Voisin|Charles Cesar de Rigol    1\n",
       "Étienne de Lavallée-Poussin|Hubert Robert|Franz Edmund Weirotter|Louis Jean Jacques Durameau|Luigi Subleyras                                                         1\n",
       "Étienne de Lavallée-Poussin|Juste Nathan Boucher                                                                                                                     1\n",
       "Étienne-Gabriel Bocourt|Gustave Courbet|Alfred Salmon                                                                                                                1\n",
       "Étienne-Gabriel Bocourt|Jean-Baptiste Carpeaux|Anonymous, French, 19th century                                                                                       1\n",
       "Étienne-Henry Le Guay|Sèvres Manufactory|Nicolas Pierre Pithou the Younger|Philippe Parpette                                                                         1\n",
       "Étienne-Jacques Marcq (born ca. 1705–1781)                                                                                                                           2\n",
       "Étienne-Maurice Falconet                                                                                                                                             5\n",
       "Étienne-Prosper Berne-Bellecour                                                                                                                                      1\n",
       "Éva Gonzalès                                                                                                                                                         1\n",
       "Éva Gonzalès|Henri-Charles Guérard                                                                                                                                   1\n",
       "à La Haye                                                                                                                                                            1\n",
       "Ōbaku Ingen                                                                                                                                                          1\n",
       "Ōhara Donshū|Tanaka Nikka                                                                                                                                            1\n",
       "Ōhi Chōzaemon                                                                                                                                                        1\n",
       "Ōide Tōkō                                                                                                                                                            1\n",
       "Ōishi Matora                                                                                                                                                         2\n",
       "Ōishi Shuga                                                                                                                                                          1\n",
       "Ōmori Teruhide                                                                                                                                                       1\n",
       "Ōnishi Chinnen                                                                                                                                                       3\n",
       "Ōnishi Chinnen|Tani Bunchō                                                                                                                                           1\n",
       "Ōoka Shunboku                                                                                                                                                        4\n",
       "Ōsako Mikio                                                                                                                                                          1\n",
       "Ōtagaki Rengetsu                                                                                                                                                     5\n",
       "ʿAlam al-Din Qaysar                                                                                                                                                  1\n",
       "‘Ali bin Ja’far bin Asad                                                                                                                                             1\n",
       "‘Ali ibn Naqi al-Husaini Damghani                                                                                                                                    2\n",
       "‘Umar ibn Yusuf ibn ‘Umar ibn ‘Ali ibn Rasul al-Muzaffari                                                                                                            1\n",
       "筆者不詳                                                                                                                                                                 7\n",
       "Length: 60923, dtype: int64"
      ]
     },
     "execution_count": 21,
     "metadata": {},
     "output_type": "execute_result"
    }
   ],
   "source": [
    "df[df['Artist Display Name'].notnull()].groupby('Artist Display Name').size()"
   ]
  },
  {
   "cell_type": "code",
   "execution_count": null,
   "metadata": {},
   "outputs": [],
   "source": [
    "def getCleanedArtistList(notnull_list):\n",
    "    for i in notnull_list:\n",
    "        if 'painter' in df.iloc[i]['Artist Display Name']:\n",
    "            notnull_list.remove(i)\n",
    "        elif 'Painter' in df.iloc[i]['Artist Display Name']:\n",
    "            notnull_list.remove(i)\n",
    "        elif 'artist' in df.iloc[i]['Artist Display Name']:\n",
    "            notnull_list.remove(i)"
   ]
  },
  {
   "cell_type": "code",
   "execution_count": 22,
   "metadata": {},
   "outputs": [],
   "source": [
    "def getArtist(art_ID):\n",
    "    return df.iloc[art_ID]['Artist Display Name']"
   ]
  },
  {
   "cell_type": "code",
   "execution_count": 33,
   "metadata": {},
   "outputs": [
    {
     "data": {
      "text/plain": [
       "False"
      ]
     },
     "execution_count": 33,
     "metadata": {},
     "output_type": "execute_result"
    }
   ],
   "source": [
    "art_ID = 333445\n",
    "getArtist(art_ID)\n",
    "'painter' in df.iloc[333445]['Artist Display Name']"
   ]
  },
  {
   "cell_type": "code",
   "execution_count": null,
   "metadata": {},
   "outputs": [],
   "source": [
    "def getTime(art_ID):\n",
    "    return df.iloc[art_ID]['Object Date']"
   ]
  },
  {
   "cell_type": "code",
   "execution_count": null,
   "metadata": {},
   "outputs": [],
   "source": [
    "def get"
   ]
  }
 ],
 "metadata": {
  "kernelspec": {
   "display_name": "Python 3",
   "language": "python",
   "name": "python3"
  },
  "language_info": {
   "codemirror_mode": {
    "name": "ipython",
    "version": 3
   },
   "file_extension": ".py",
   "mimetype": "text/x-python",
   "name": "python",
   "nbconvert_exporter": "python",
   "pygments_lexer": "ipython3",
   "version": "3.6.5"
  }
 },
 "nbformat": 4,
 "nbformat_minor": 2
}
