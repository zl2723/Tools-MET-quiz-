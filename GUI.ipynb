{
 "cells": [
  {
   "cell_type": "code",
   "execution_count": null,
   "metadata": {},
   "outputs": [],
   "source": [
    "from tkinter import *\n",
    "from tkinter import scrolledtext\n",
    "\n",
    "#functions to be implemented: connect each page to the randomly generated question\n",
    "#user can choose from a multiple choice question\n",
    "#user is told right or wrong\n",
    "#count the correct answer number\n",
    "#quit button\n",
    "\n",
    "class QuizGui:\n",
    "    \n",
    "    def __init__(self):   \n",
    "        root = Tk()\n",
    "        root.lift()\n",
    "        root.attributes(\"-topmost\", True)\n",
    "        root.geometry(\"500x600\")\n",
    "        root.title(\"MET-Q\")\n",
    "        self.root = root\n",
    "        \n",
    "        total = IntVar() #default = 0, integer\n",
    "        \n",
    "        self.frame = Frame(root)\n",
    "        Label(root, textvariable=total).pack()\n",
    "        Label(self.frame, text=\"Question: \").grid(row=2)\n",
    "        Button(self.frame, text=\"A\").grid(row=3)\n",
    "        Button(self.frame, text=\"B\").grid(row=4)\n",
    "        Button(self.frame, text=\"C\").grid(row=5)\n",
    "        Button(self.frame, text=\"D\").grid(row=6)\n",
    "        \n",
    "        canvas_width = 400\n",
    "        canvas_height = 480\n",
    "        self.canvas = Canvas(root, height=canvas_height, width=canvas_width)\n",
    "        self.title_label = Label(root, text=\"The MET Quiz\", font = \"Times 16 bold\").pack(side=\"top\")\n",
    "        self.score_label = Label(root).pack(side=\"top\")\n",
    "        self.text = scrolledtext.ScrolledText(root, width=240, height=350)\n",
    "        self.text.pack(side=\"top\")\n",
    "        quote = \"\"\"\n",
    "        This works as a tester text\n",
    "        To see if the insertion works\n",
    "        \"\"\"\n",
    "        self.text.insert(END,quote)\n",
    "        self.frame.pack()\n",
    "        self.canvas.pack()\n",
    "\n",
    "        #get the user score\n",
    "        def counter():\n",
    "            total.set(total.get() + 1)\n",
    "        \n",
    "        root.mainloop()\n",
    "\n",
    "        \n",
    "gui = QuizGui()"
   ]
  },
  {
   "cell_type": "code",
   "execution_count": null,
   "metadata": {},
   "outputs": [],
   "source": []
  }
 ],
 "metadata": {
  "kernelspec": {
   "display_name": "Python 3",
   "language": "python",
   "name": "python3"
  },
  "language_info": {
   "codemirror_mode": {
    "name": "ipython",
    "version": 3
   },
   "file_extension": ".py",
   "mimetype": "text/x-python",
   "name": "python",
   "nbconvert_exporter": "python",
   "pygments_lexer": "ipython3",
   "version": "3.6.5"
  }
 },
 "nbformat": 4,
 "nbformat_minor": 2
}
