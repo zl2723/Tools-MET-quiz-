{
 "cells": [
  {
   "cell_type": "code",
   "execution_count": 7,
   "metadata": {},
   "outputs": [],
   "source": [
    "from tkinter import *\n",
    "from tkinter import scrolledtext\n",
    "\n",
    "#functions to be implemented: connect each page to the randomly generated question\n",
    "#user can choose from a multiple choice question\n",
    "#user is told right or wrong\n",
    "#count the correct answer number\n",
    "#quit button\n",
    "def start():\n",
    "    root = Tk()\n",
    "    root.lift()\n",
    "    root.attributes(\"-topmost\", True)\n",
    "    root.geometry(\"500x600\")\n",
    "    root.title(\"MET-Q\")\n",
    "    \n",
    "    total = IntVar() #default = 0, integer\n",
    "    \n",
    "    canvas_width = 400\n",
    "    canvas_height = 540\n",
    "    canvas = Canvas(root, height=canvas_height, width=canvas_width)\n",
    "    title_label = Label(root, text=\"The MET Quiz\", font = \"Times 16 bold\").pack(side=\"top\")\n",
    "    score_label = Label(root, text=\"Score:\").pack()\n",
    "    score_label = Label(root, textvariable=total).pack(side=\"top\")\n",
    "    \n",
    "    Label(root, text=\"Question: \").pack()\n",
    "    Button(root, text=\"A\",command=lambda: correct(root,total)).pack()\n",
    "    Button(root, text=\"B\",command=lambda: incorrect(root)).pack()\n",
    "    Button(root, text=\"C\",command=lambda: incorrect(root)).pack()\n",
    "    Button(root, text=\"D\",command=lambda: incorrect(root)).pack()\n",
    "    \n",
    "    text = scrolledtext.ScrolledText(root, width=240, height=350)\n",
    "    text.pack(side=\"top\")\n",
    "    quote = \"\"\"\n",
    "        This works as a tester text\n",
    "        To see if the insertion works\n",
    "        \"\"\"\n",
    "    text.insert(END,quote)\n",
    "    \n",
    "    frame=Frame(root)\n",
    "    frame.pack()\n",
    "    canvas.pack()\n",
    "    \n",
    "    return root.mainloop()\n",
    "        \n",
    "def correct(root,total):\n",
    "    Label(root, text=\"Correct\").pack()\n",
    "    counter(total)\n",
    "#     total+=1 #add 1 to score if the correct answer is chosen\n",
    "    \n",
    "def incorrect(root):\n",
    "    Label(root, text=\"Incorrect\").pack()\n",
    "    \n",
    "def counter(total):\n",
    "    total.set(total.get() + 1)\n",
    "        \n",
    "        \n",
    "\n",
    "\n",
    "    \n",
    "\n"
   ]
  },
  {
   "cell_type": "code",
   "execution_count": 8,
   "metadata": {},
   "outputs": [],
   "source": [
    "start()"
   ]
  },
  {
   "cell_type": "code",
   "execution_count": null,
   "metadata": {},
   "outputs": [],
   "source": []
  }
 ],
 "metadata": {
  "kernelspec": {
   "display_name": "Python 3",
   "language": "python",
   "name": "python3"
  },
  "language_info": {
   "codemirror_mode": {
    "name": "ipython",
    "version": 3
   },
   "file_extension": ".py",
   "mimetype": "text/x-python",
   "name": "python",
   "nbconvert_exporter": "python",
   "pygments_lexer": "ipython3",
   "version": "3.6.5"
  }
 },
 "nbformat": 4,
 "nbformat_minor": 2
}
