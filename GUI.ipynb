{
 "cells": [
  {
   "cell_type": "code",
   "execution_count": null,
   "metadata": {},
   "outputs": [],
   "source": [
    "import tkinter as tk\n",
    "\n",
    "class QuizGui(object):\n",
    "    \n",
    "    def __init__(self):   \n",
    "        root = tk.Tk()\n",
    "        root.lift()\n",
    "        root.attributes(\"-topmost\", True)\n",
    "        root.title(\"MET-Q\")\n",
    "        self.root = root\n",
    "        \n",
    "        canvas_width = 600\n",
    "        canvas_height = 800\n",
    "        self.canvas = Canvas(root, height=canvas_height, width=canvas_width)\n",
    "        self.title_label = tk.Label(root, text=\"The MET Quiz\", font = \"Times 16 bold\").pack()\n",
    "        self.score_label = Label(root)\n",
    "        self.text = scrolledtext.ScrolledText(root, width=480, height=600)\n",
    "        \n",
    "        self.canvas.pack()\n",
    "        self.text.pack()\n",
    "        self.title_lable.pack(side=\"top\")\n",
    "        self.score_label.pack(side=\"top\")\n",
    "#     def counter_label(label):\n",
    "#         def count():\n",
    "#             global counter\n",
    "#             counter += 1\n",
    "#             label.config(text=str(counter))\n",
    "#             label.after(1000, count)\n",
    "#         count()\n",
    "\n",
    "    root.mainloop()"
   ]
  }
 ],
 "metadata": {
  "kernelspec": {
   "display_name": "Python 3",
   "language": "python",
   "name": "python3"
  },
  "language_info": {
   "codemirror_mode": {
    "name": "ipython",
    "version": 3
   },
   "file_extension": ".py",
   "mimetype": "text/x-python",
   "name": "python",
   "nbconvert_exporter": "python",
   "pygments_lexer": "ipython3",
   "version": "3.6.5"
  }
 },
 "nbformat": 4,
 "nbformat_minor": 2
}
