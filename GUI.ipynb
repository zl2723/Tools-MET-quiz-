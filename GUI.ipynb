{
 "cells": [
  {
   "cell_type": "code",
   "execution_count": 30,
   "metadata": {},
   "outputs": [],
   "source": [
    "from tkinter import *\n",
    "from tkinter import scrolledtext\n",
    "\n",
    "#functions to be implemented: connect each page to the randomly generated question\n",
    "#user can choose from a multiple choice question\n",
    "#user is told right or wrong\n",
    "#count the correct answer number\n",
    "#quit button\n",
    "class quizGUI:\n",
    "    \n",
    "    def __init__(self):\n",
    "        root = Tk()\n",
    "        root.lift()\n",
    "        root.attributes(\"-topmost\", True)\n",
    "        root.geometry(\"500x600\")\n",
    "        root.title(\"MET-Q\")\n",
    "        self.root = root\n",
    "    \n",
    "        self.total = IntVar() #default = 0, integer\n",
    "    \n",
    "        #title label\n",
    "        self.title_label = Label(root, text=\"The MET Quiz\", font = \"Times 20 bold\")\n",
    "        self.title_label.pack(side=\"top\")\n",
    "    \n",
    "        #record the score\n",
    "        self.score_label = Label(root, text='Score',textvariable=self.counter())\n",
    "        self.score_label.pack()\n",
    "    \n",
    "        #question and choice buttons\n",
    "        self.Q = Label(root, text=\"Question: \",command=self.showQ())\n",
    "        self.Q.pack()\n",
    "        self.A = Button(root, text=\"A\",command=lambda: self.correct()).pack()\n",
    "        self.B = Button(root, text=\"B\",command=lambda: incorrect(root)).pack()\n",
    "        self.C = Button(root, text=\"C\",command=lambda: incorrect(root)).pack()\n",
    "        self.D = Button(root, text=\"D\",command=lambda: incorrect(root)).pack()\n",
    "\n",
    "        #quit button\n",
    "        self.close_button=Button(root, text=\"Quit\", command=root.quit)\n",
    "        self.close_button.pack(padx=20,side='right')\n",
    "          \n",
    "        root.mainloop() \n",
    "\n",
    "    #add 1 to score if the correct answer is chosen\n",
    "    def correct(self):\n",
    "        Label(self.root, text=\"Correct\").pack()\n",
    "        self.total.set(self.total.get() + 1) \n",
    "    \n",
    "    def incorrect(root):\n",
    "        Label(root, text=\"Incorrect\").pack()\n",
    "\n",
    "    def counter(total):\n",
    "        return self.total\n",
    "        \n",
    "    def showQ(self):\n",
    "        print('The question is about a new artwork')\n",
    "       "
   ]
  },
  {
   "cell_type": "code",
   "execution_count": 31,
   "metadata": {},
   "outputs": [
    {
     "name": "stdout",
     "output_type": "stream",
     "text": [
      "The question is about a new artwork\n"
     ]
    }
   ],
   "source": [
    "myGUI = quizGUI()"
   ]
  },
  {
   "cell_type": "code",
   "execution_count": null,
   "metadata": {},
   "outputs": [],
   "source": []
  }
 ],
 "metadata": {
  "kernelspec": {
   "display_name": "Python 3",
   "language": "python",
   "name": "python3"
  },
  "language_info": {
   "codemirror_mode": {
    "name": "ipython",
    "version": 3
   },
   "file_extension": ".py",
   "mimetype": "text/x-python",
   "name": "python",
   "nbconvert_exporter": "python",
   "pygments_lexer": "ipython3",
   "version": "3.6.5"
  }
 },
 "nbformat": 4,
 "nbformat_minor": 2
}
