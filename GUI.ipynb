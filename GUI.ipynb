{
 "cells": [
  {
   "cell_type": "code",
   "execution_count": 30,
   "metadata": {},
   "outputs": [],
   "source": [
    "from tkinter import *\n",
    "from tkinter import scrolledtext\n",
    "\n",
    "#functions to be implemented: connect each page to the randomly generated question\n",
    "#user can choose from a multiple choice question\n",
    "#user is told right or wrong\n",
    "#count the correct answer number\n",
    "#quit button\n",
    "class quizGUI:\n",
    "    \n",
    "    def __init__(self):\n",
    "        root = Tk()\n",
    "        root.lift()\n",
    "        root.attributes(\"-topmost\", True)\n",
    "        root.geometry(\"500x600\")\n",
    "        root.title(\"MET-Q\")\n",
    "        self.root = root\n",
    "    \n",
    "        canvas_width = 500\n",
    "        canvas_height = 600\n",
    "        self.canvas = Canvas(root, height=canvas_height, width=canvas_width)\n",
    "        self.frame=Frame(root)\n",
    "        self.frame.pack()\n",
    "        self.canvas.pack()\n",
    "    \n",
    "        #title label\n",
    "        self.title_label = Label(root, text=\"The MET Quiz\", font = \"Times 20 bold\").pack(side=\"top\")\n",
    "    \n",
    "        #record the score\n",
    "        total = IntVar() #default = 0, integer\n",
    "        self.score_label = Label(root, text='Score',textvariable=total).pack(side=\"top\")\n",
    "    \n",
    "        #question and choice buttons\n",
    "        self.Q = Label(root, text=\"Question: \",command=self.showQ())\n",
    "        self.Q.pack()\n",
    "        self.A = Button(root, text=\"A\",command=lambda: correct(root,total)).pack()\n",
    "        self.B = Button(root, text=\"B\",command=lambda: incorrect(root)).pack()\n",
    "        self.C = Button(root, text=\"C\",command=lambda: incorrect(root)).pack()\n",
    "        self.D = Button(root, text=\"D\",command=lambda: incorrect(root)).pack()\n",
    "\n",
    "        #quit button\n",
    "        self.close_button=Button(root, text=\"Close\", command=quit)\n",
    "        self.close_button.pack(side='right')\n",
    "          \n",
    "        root.mainloop() \n",
    "        \n",
    "#     text = scrolledtext.ScrolledText(root, width=240, height=350)\n",
    "#     text.pack(side=\"top\")\n",
    "#     quote = \"\"\"\n",
    "#         This works as a tester text\n",
    "#         To see if the insertion works\n",
    "#         \"\"\"\n",
    "    #     text.insert(END,quote)\n",
    "\n",
    "    def correct(root,total):\n",
    "        Label(root, text=\"Correct\").pack()\n",
    "        counter(total)\n",
    "    #     total+=1 #add 1 to score if the correct answer is chosen\n",
    "\n",
    "    def incorrect(root):\n",
    "        Label(root, text=\"Incorrect\").pack()\n",
    "\n",
    "    def counter(total):\n",
    "        total.set(total.get() + 1) \n",
    "        \n",
    "    def showQ(self):\n",
    "        print('The question is about a new artwork')\n",
    "       "
   ]
  },
  {
   "cell_type": "code",
   "execution_count": 31,
   "metadata": {},
   "outputs": [
    {
     "name": "stdout",
     "output_type": "stream",
     "text": [
      "The question is about a new artwork\n"
     ]
    }
   ],
   "source": [
    "myGUI = quizGUI()"
   ]
  },
  {
   "cell_type": "code",
   "execution_count": null,
   "metadata": {},
   "outputs": [],
   "source": []
  }
 ],
 "metadata": {
  "kernelspec": {
   "display_name": "Python 3",
   "language": "python",
   "name": "python3"
  },
  "language_info": {
   "codemirror_mode": {
    "name": "ipython",
    "version": 3
   },
   "file_extension": ".py",
   "mimetype": "text/x-python",
   "name": "python",
   "nbconvert_exporter": "python",
   "pygments_lexer": "ipython3",
   "version": "3.6.5"
  }
 },
 "nbformat": 4,
 "nbformat_minor": 2
}
