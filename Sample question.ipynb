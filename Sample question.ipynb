{
 "cells": [
  {
   "cell_type": "code",
   "execution_count": 10,
   "metadata": {},
   "outputs": [],
   "source": [
    "def sample_q_stem():\n",
    "    return \"\"\"\n",
    "    When do you think this object was created?\n",
    "    \n",
    "    \"\"\"\n",
    "def sample_img():\n",
    "    return \"https://collectionapi.metmuseum.org/api/collection/v1/iiif/12118/44270/restricted\"\n",
    "def sample_answer_choices():\n",
    "    return {'A':'19','B':'20','C': '18','D':'17'}\n",
    "def correct_answer():\n",
    "    return \"A\"\n",
    "def give_link():\n",
    "    return 'https://www.metmuseum.org/art/collection/search/12118'"
   ]
  }
 ],
 "metadata": {
  "kernelspec": {
   "display_name": "Python 3",
   "language": "python",
   "name": "python3"
  },
  "language_info": {
   "codemirror_mode": {
    "name": "ipython",
    "version": 3
   },
   "file_extension": ".py",
   "mimetype": "text/x-python",
   "name": "python",
   "nbconvert_exporter": "python",
   "pygments_lexer": "ipython3",
   "version": "3.6.5"
  }
 },
 "nbformat": 4,
 "nbformat_minor": 2
}
