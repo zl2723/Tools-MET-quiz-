{
 "cells": [
  {
   "cell_type": "code",
   "execution_count": null,
   "metadata": {},
   "outputs": [],
   "source": [
    "import random\n",
    "#obj_department_list = valid_list(department_of_obj)\n",
    "#still need to connect with data_list\n",
    "correct = object_list[obj_number]\n",
    "wrongs = [object_department_list[i] for i in random.sample(range(1, len(department_of_obj)), 3) and i != obj_number]\n",
    "w1 = wrongs[0]\n",
    "w2 = wrongs[1]\n",
    "w3 = wrongs[2]\n",
    "Q = random.randint(0,4)"
   ]
  },
  {
   "cell_type": "code",
   "execution_count": 1,
   "metadata": {},
   "outputs": [],
   "source": [
    "def questions(category, obj):\n",
    "    if category is 'artist':\n",
    "        Q = 0\n",
    "        question = \"Who is the artist for this piece of work?\"\n",
    "        correct = obj.get_artist()\n",
    "        wrong1 = w1.get_artist()\n",
    "        wrong2 = w2.get_artist()\n",
    "        wrong3 = w3.get_artist()\n",
    "    elif category is 'time':\n",
    "        Q = 1\n",
    "        question = \"During which time period was this artwork created?\"\n",
    "        correct = obj.get_time()\n",
    "        wrong1 = w1.get_time()\n",
    "        wrong2 = w2.get_time()\n",
    "        wrong3 = w3.get_time()\n",
    "    elif category is 'material':\n",
    "        Q = 2\n",
    "        question = \"What kind of main material did this object use?\"\n",
    "        correct = obj.get_material()\n",
    "        wrong1 = w1.get_material()\n",
    "        wrong2 = w2.get_material()\n",
    "        wrong3 = w3.get_material()\n",
    "    elif category is 'type':\n",
    "        Q = 3\n",
    "        question = \"What type of artwork is this?\"\n",
    "        correct = obj.get_type()\n",
    "        wrong1 = w1.get_type()\n",
    "        wrong2 = w2.get_type()\n",
    "        wrong3 = w3.get_type()\n",
    "    else: #department\n",
    "        question = \"Which department does this exhibit belong to?\"\n",
    "        correct = obj.get_department()\n",
    "        wrong1 = w1.get_department()\n",
    "        wrong2 = w2.get_department()\n",
    "        wrong3 = w3.get_department()"
   ]
  },
  {
   "cell_type": "code",
   "execution_count": 11,
   "metadata": {},
   "outputs": [
    {
     "name": "stdout",
     "output_type": "stream",
     "text": [
      "{'A': 3, 'B': 2, 'C': 'Yeah', 'D': 1}\n",
      "['C']\n"
     ]
    }
   ],
   "source": [
    "import random\n",
    "from random import shuffle\n",
    "answer_list = [wrong1,wrong2,wrong3,correct]\n",
    "index_list = ['A','B','C','D']\n",
    "random.shuffle(answer_list)\n",
    "answer = dict(zip(index_list,answer_list))\n",
    "answer_key = [key for key, value in answer.items() if value == correct]"
   ]
  }
 ],
 "metadata": {
  "kernelspec": {
   "display_name": "Python 3",
   "language": "python",
   "name": "python3"
  },
  "language_info": {
   "codemirror_mode": {
    "name": "ipython",
    "version": 3
   },
   "file_extension": ".py",
   "mimetype": "text/x-python",
   "name": "python",
   "nbconvert_exporter": "python",
   "pygments_lexer": "ipython3",
   "version": "3.6.5"
  }
 },
 "nbformat": 4,
 "nbformat_minor": 2
}
